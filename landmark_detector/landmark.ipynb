{
 "cells": [
  {
   "cell_type": "code",
   "execution_count": 3,
   "metadata": {},
   "outputs": [],
   "source": [
    "import tensorflow as tf\n",
    "import data_util\n",
    "import cv2\n",
    "import matplotlib.pyplot as plt\n",
    "import resnet_V2\n",
    "from tensorflow.keras.utils import plot_model\n",
    "from tensorflow import keras"
   ]
  },
  {
   "cell_type": "markdown",
   "metadata": {},
   "source": [
    "## 데이터 불러오기"
   ]
  },
  {
   "cell_type": "code",
   "execution_count": 4,
   "metadata": {},
   "outputs": [],
   "source": [
    "ds = data_util.get_cu_dataset(train_type='landmark')"
   ]
  },
  {
   "cell_type": "code",
   "execution_count": 5,
   "metadata": {},
   "outputs": [
    {
     "data": {
      "text/plain": [
       "239"
      ]
     },
     "execution_count": 5,
     "metadata": {},
     "output_type": "execute_result"
    }
   ],
   "source": [
    "ds_size = len(list(ds))\n",
    "ds_size"
   ]
  },
  {
   "cell_type": "code",
   "execution_count": 6,
   "metadata": {},
   "outputs": [],
   "source": [
    "train_size = int(0.7 * ds_size)\n",
    "val_size = int(0.15 * ds_size)\n",
    "test_size = int(0.15 * ds_size)\n",
    "# full_dataset = tf.data.TFRecordDataset(FLAGS.input_file)\n",
    "# ds = ds.shuffle()\n",
    "train_ds = ds.take(train_size)\n",
    "test_ds = ds.skip(train_size)\n",
    "val_ds = test_ds.skip(val_size)\n",
    "test_ds = test_ds.take(test_size)"
   ]
  },
  {
   "cell_type": "code",
   "execution_count": 7,
   "metadata": {},
   "outputs": [
    {
     "data": {
      "text/plain": [
       "167"
      ]
     },
     "execution_count": 7,
     "metadata": {},
     "output_type": "execute_result"
    }
   ],
   "source": [
    "len(list(train_ds))"
   ]
  },
  {
   "cell_type": "code",
   "execution_count": 16,
   "metadata": {},
   "outputs": [
    {
     "name": "stdout",
     "output_type": "stream",
     "text": [
      "(32, 256, 256, 3)\n",
      "(32, 16)\n"
     ]
    }
   ],
   "source": [
    "for image_batch, labels_batch in train_ds:\n",
    "    print(image_batch.shape)\n",
    "    print(labels_batch.shape)\n",
    "    break"
   ]
  },
  {
   "cell_type": "markdown",
   "metadata": {},
   "source": [
    "## 모델 학습"
   ]
  },
  {
   "cell_type": "code",
   "execution_count": 7,
   "metadata": {},
   "outputs": [],
   "source": [
    "en = resnet_V2.ResNetEncoder()"
   ]
  },
  {
   "cell_type": "code",
   "execution_count": 11,
   "metadata": {},
   "outputs": [],
   "source": [
    "resnet = keras.models.Sequential()\n",
    "resnet.add(keras.layers.Input(shape=(256, 256, 3)))\n",
    "resnet.add(en)\n",
    "resnet.add(keras.layers.Flatten())\n",
    "resnet.add(keras.layers.Dense(256))\n",
    "resnet.add(keras.layers.Dense(16))\n",
    "resnet.compile(loss=keras.losses.mse,\n",
    "              optimizer='adam')\n",
    "              # metrics=['accuracy']   regression은 accuracy를 평가지표로 사용할 수 없음\n",
    "              \n",
    "# temp = tf.random.normal(shape=(1, 256, 256, 3))\n",
    "# resnet(temp)\n",
    "# resnet.summary()"
   ]
  },
  {
   "cell_type": "code",
   "execution_count": 9,
   "metadata": {},
   "outputs": [
    {
     "data": {
      "text/plain": [
       "<TakeDataset shapes: ((None, None, None, 3), (None, None)), types: (tf.float32, tf.float32)>"
      ]
     },
     "execution_count": 9,
     "metadata": {},
     "output_type": "execute_result"
    }
   ],
   "source": [
    "train_ds"
   ]
  },
  {
   "cell_type": "code",
   "execution_count": 12,
   "metadata": {},
   "outputs": [
    {
     "name": "stdout",
     "output_type": "stream",
     "text": [
      "     51/Unknown - 582s 11s/step - loss: 1905.5244"
     ]
    }
   ],
   "source": [
    "# callbacks_list = [\n",
    "#     # accuracy 기준 가장 높은 모델의 weight 저장\n",
    "#     tf.keras.callbacks.ModelCheckpoint(\n",
    "#         filepath = ckpt_path,\n",
    "#         monitor='val_accuracy',\n",
    "#         mode='max',\n",
    "#         save_weights_only=True,\n",
    "#         save_best_only=True\n",
    "#     ),\n",
    "#     # EarlyStopping\n",
    "#     tf.keras.callbacks.EarlyStopping(\n",
    "#         monitor='val_accuracy',\n",
    "#         mode='max',\n",
    "#         verbose=1, \n",
    "#         patience=20\n",
    "#     )\n",
    "# ]\n",
    "resnet.compile(optimizer='adam', loss='mse')\n",
    "hist = resnet.fit(train_ds, validation_data=val_ds, epochs=1)   # loss 기록"
   ]
  }
 ],
 "metadata": {
  "interpreter": {
   "hash": "8fac594bfae6525c0c41b4041d2d72effa188cc8ead05f81b1fab2bb098927fb"
  },
  "kernelspec": {
   "display_name": "Python 3 (ipykernel)",
   "language": "python",
   "name": "python3"
  },
  "language_info": {
   "codemirror_mode": {
    "name": "ipython",
    "version": 3
   },
   "file_extension": ".py",
   "mimetype": "text/x-python",
   "name": "python",
   "nbconvert_exporter": "python",
   "pygments_lexer": "ipython3",
   "version": "3.9.7"
  }
 },
 "nbformat": 4,
 "nbformat_minor": 2
}
