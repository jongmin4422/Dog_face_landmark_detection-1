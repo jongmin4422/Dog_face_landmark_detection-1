{
 "cells": [
  {
   "cell_type": "code",
   "execution_count": 1,
   "id": "810af0b1",
   "metadata": {},
   "outputs": [],
   "source": [
    "import tensorflow as tf\n",
    "from tensorflow import keras\n",
    "from AAE import AAE\n",
    "import loss"
   ]
  },
  {
   "cell_type": "code",
   "execution_count": 2,
   "id": "93bcfb2b",
   "metadata": {},
   "outputs": [],
   "source": [
    "# training setting variable\n",
    "epochs = 100\n",
    "lr = 0.01\n",
    "batch_size = 32\n",
    "input_size = 256\n",
    "\n",
    "# aae network\n",
    "aae = AAE(input_size)\n",
    "\n",
    "# optimizers\n",
    "opt_E = keras.optimizers.Adam(lr)   # encoder update optimizer\n",
    "opt_G = keras.optimizers.Adam(lr)   # decoder update optimizer\n",
    "opt_D_z = keras.optimizers.Adam(lr)   # discriminator update optimizer\n",
    "opt_D = keras.optimizers.Adam(lr)   # discriminator update optimizer"
   ]
  },
  {
   "cell_type": "code",
   "execution_count": null,
   "id": "5b149041",
   "metadata": {},
   "outputs": [],
   "source": [
    "# data load\n",
    "dataset = data_load()"
   ]
  },
  {
   "cell_type": "code",
   "execution_count": null,
   "id": "c7bdc183",
   "metadata": {},
   "outputs": [],
   "source": [
    "for i, x_batch in enumerate(dataset):\n",
    "    n_step = i % epochs\n",
    "    \n",
    "    z_sample = aae.Q(x_batch)\n",
    "    \n",
    "    # Encoding regularization\n",
    "    \n",
    "    # Enocding\n",
    "    if n_step % 4 == 0:\n",
    "        z_real = tf.random.normal(shape=z_sample.shape)\n",
    "        D_real = aae.D_z(z_real)\n",
    "        D_fake = aae.D_z(z_sample)\n",
    "        loss_D_z = loss.loss_D_z(D_real, D_fake)\n",
    "        \n",
    "    \n",
    "    \n",
    "    "
   ]
  }
 ],
 "metadata": {
  "kernelspec": {
   "display_name": "Python 3 (ipykernel)",
   "language": "python",
   "name": "python3"
  },
  "language_info": {
   "codemirror_mode": {
    "name": "ipython",
    "version": 3
   },
   "file_extension": ".py",
   "mimetype": "text/x-python",
   "name": "python",
   "nbconvert_exporter": "python",
   "pygments_lexer": "ipython3",
   "version": "3.8.2"
  }
 },
 "nbformat": 4,
 "nbformat_minor": 5
}
