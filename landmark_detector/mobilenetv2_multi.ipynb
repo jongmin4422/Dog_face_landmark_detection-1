{
 "cells": [
  {
   "cell_type": "code",
   "execution_count": 2,
   "metadata": {
    "colab": {
     "base_uri": "https://localhost:8080/"
    },
    "executionInfo": {
     "elapsed": 17087,
     "status": "ok",
     "timestamp": 1641918681339,
     "user": {
      "displayName": "최지욱",
      "photoUrl": "https://lh3.googleusercontent.com/a/default-user=s64",
      "userId": "14883004584088593369"
     },
     "user_tz": -540
    },
    "id": "gH3t06tUC6DX",
    "outputId": "79c62863-79eb-40c0-fd66-36a58567ec61"
   },
   "outputs": [],
   "source": [
    "import tensorflow as tf\n",
    "from tensorflow import keras\n",
    "import matplotlib.pyplot as plt\n",
    "from tqdm import tqdm\n",
    "import numpy as np\n",
    "import cv2\n",
    "import resnet_V2\n",
    "import data_util"
   ]
  },
  {
   "cell_type": "code",
   "execution_count": 3,
   "metadata": {},
   "outputs": [],
   "source": [
    "tf.random.set_seed(42)"
   ]
  },
  {
   "cell_type": "code",
   "execution_count": 4,
   "metadata": {},
   "outputs": [],
   "source": [
    "mse = keras.losses.MeanSquaredError()\n",
    "ce = keras.losses.CategoricalCrossentropy()"
   ]
  },
  {
   "cell_type": "code",
   "execution_count": 5,
   "metadata": {},
   "outputs": [],
   "source": [
    "def custom_loss(y_true, y_pred):\n",
    "    y_class_true = y_true[:, 0:133]\n",
    "    y_class_pred = y_pred[:, 0:133]\n",
    "    \n",
    "    y_point_true = y_true[:, 133:]\n",
    "    y_point_pred = y_pred[:, 133:]\n",
    "    \n",
    "    class_loss = ce(y_class_true, y_class_pred)\n",
    "    point_loss = mse(y_point_true, y_point_pred)\n",
    "    \n",
    "    return 0.5 * point_loss + 0.5 * class_loss"
   ]
  },
  {
   "cell_type": "code",
   "execution_count": 6,
   "metadata": {},
   "outputs": [
    {
     "name": "stdout",
     "output_type": "stream",
     "text": [
      "WARNING:tensorflow:`input_shape` is undefined or non-square, or `rows` is not in [96, 128, 160, 192, 224]. Weights for input shape (224, 224) will be loaded as the default.\n"
     ]
    }
   ],
   "source": [
    "encoder = tf.keras.applications.mobilenet_v2.MobileNetV2(\n",
    "    input_shape=(256,256,3), alpha=1.0, include_top=None, weights='imagenet',\n",
    "    pooling=None, classes=1    \n",
    ")"
   ]
  },
  {
   "cell_type": "code",
   "execution_count": 7,
   "metadata": {},
   "outputs": [
    {
     "name": "stdout",
     "output_type": "stream",
     "text": [
      "Model: \"model\"\n",
      "__________________________________________________________________________________________________\n",
      " Layer (type)                   Output Shape         Param #     Connected to                     \n",
      "==================================================================================================\n",
      " input_2 (InputLayer)           [(None, 256, 256, 3  0           []                               \n",
      "                                )]                                                                \n",
      "                                                                                                  \n",
      " mobilenetv2_1.00_224 (Function  (None, 8, 8, 1280)  2257984     ['input_2[0][0]']                \n",
      " al)                                                                                              \n",
      "                                                                                                  \n",
      " flatten (Flatten)              (None, 81920)        0           ['mobilenetv2_1.00_224[0][0]']   \n",
      "                                                                                                  \n",
      " branch1_class (Dense)          (None, 133)          10895493    ['flatten[0][0]']                \n",
      "                                                                                                  \n",
      " branch2_landmark (Dense)       (None, 16)           1310736     ['flatten[0][0]']                \n",
      "                                                                                                  \n",
      " concatenate (Concatenate)      (None, 149)          0           ['branch1_class[0][0]',          \n",
      "                                                                  'branch2_landmark[0][0]']       \n",
      "                                                                                                  \n",
      "==================================================================================================\n",
      "Total params: 14,464,213\n",
      "Trainable params: 14,430,101\n",
      "Non-trainable params: 34,112\n",
      "__________________________________________________________________________________________________\n"
     ]
    }
   ],
   "source": [
    "input_size= 256\n",
    "batch_size=16\n",
    "\n",
    "input = keras.layers.Input(shape=(256,256,3))\n",
    "\n",
    "encoder_output = encoder(input)\n",
    "flatten = keras.layers.Flatten()(encoder_output)\n",
    "\n",
    "branch1_class = keras.layers.Dense(133,activation='softmax',name='branch1_class')(flatten)\n",
    "\n",
    "branch2_landmark = keras.layers.Dense(16,name='branch2_landmark')(flatten)\n",
    "\n",
    "out= keras.layers.concatenate([branch1_class,branch2_landmark])       # concatnate?\n",
    "\n",
    "model = keras.models.Model(input, out)\n",
    "model.compile(loss=custom_loss,\n",
    "            optimizer='adam'\n",
    "            )\n",
    "model.summary()"
   ]
  },
  {
   "cell_type": "code",
   "execution_count": 8,
   "metadata": {
    "id": "zCjw8M06H_uf"
   },
   "outputs": [],
   "source": [
    "ds = data_util.get_cu_dataset(train_type='class', batch_size=batch_size)"
   ]
  },
  {
   "cell_type": "code",
   "execution_count": 9,
   "metadata": {
    "colab": {
     "base_uri": "https://localhost:8080/"
    },
    "executionInfo": {
     "elapsed": 418,
     "status": "ok",
     "timestamp": 1641901451795,
     "user": {
      "displayName": "최지욱",
      "photoUrl": "https://lh3.googleusercontent.com/a/default-user=s64",
      "userId": "07484728369254488568"
     },
     "user_tz": -540
    },
    "id": "wHaD_TKD5meB",
    "outputId": "75c097d4-cb6c-4b7f-8630-a51b831f2380"
   },
   "outputs": [
    {
     "name": "stdout",
     "output_type": "stream",
     "text": [
      "(16, 256, 256, 3)\n",
      "(16, 149)\n"
     ]
    }
   ],
   "source": [
    "for i in ds.take(1):\n",
    "    print(i[0].shape)\n",
    "    print(i[1].shape)"
   ]
  },
  {
   "cell_type": "code",
   "execution_count": 10,
   "metadata": {},
   "outputs": [
    {
     "data": {
      "text/plain": [
       "478"
      ]
     },
     "execution_count": 10,
     "metadata": {},
     "output_type": "execute_result"
    }
   ],
   "source": [
    "ds_size = len(list(ds))\n",
    "ds_size"
   ]
  },
  {
   "cell_type": "code",
   "execution_count": 11,
   "metadata": {},
   "outputs": [],
   "source": [
    "train_size = int(0.7 * ds_size)\n",
    "val_size = int(0.15 * ds_size)\n",
    "test_size = int(0.15 * ds_size)\n",
    "\n",
    "train_ds = ds.take(train_size)\n",
    "test_ds = ds.skip(train_size)\n",
    "val_ds = test_ds.skip(val_size)\n",
    "test_ds = test_ds.take(test_size)"
   ]
  },
  {
   "cell_type": "code",
   "execution_count": 12,
   "metadata": {},
   "outputs": [
    {
     "data": {
      "text/plain": [
       "(334, 73, 71)"
      ]
     },
     "execution_count": 12,
     "metadata": {},
     "output_type": "execute_result"
    }
   ],
   "source": [
    "len(list(train_ds)), len(list(val_ds)), len(list(test_ds))"
   ]
  },
  {
   "cell_type": "code",
   "execution_count": 13,
   "metadata": {},
   "outputs": [],
   "source": [
    "ckpt_path = 'mobilenetv2_multi'\n",
    "callbacks_list = [\n",
    "    # accuracy 기준 가장 높은 모델의 weight 저장\n",
    "    tf.keras.callbacks.ModelCheckpoint(\n",
    "        filepath = ckpt_path,\n",
    "        monitor='val_loss',\n",
    "        mode='min',\n",
    "        save_weights_only=True,\n",
    "        save_best_only=True\n",
    "    ),\n",
    "    # EarlyStopping\n",
    "    # tf.keras.callbacks.EarlyStopping(\n",
    "    #    monitor='val_loss',\n",
    "    #    mode='min',\n",
    "    #    verbose=1, \n",
    "    #    patience=20\n",
    "    # )\n",
    "]"
   ]
  },
  {
   "cell_type": "code",
   "execution_count": 14,
   "metadata": {
    "colab": {
     "base_uri": "https://localhost:8080/"
    },
    "executionInfo": {
     "elapsed": 3347460,
     "status": "ok",
     "timestamp": 1641923085847,
     "user": {
      "displayName": "최지욱",
      "photoUrl": "https://lh3.googleusercontent.com/a/default-user=s64",
      "userId": "14883004584088593369"
     },
     "user_tz": -540
    },
    "id": "iOmtcqwQ8dvl",
    "outputId": "bbd9627a-fe20-48ca-c08a-7f0d10c66443"
   },
   "outputs": [
    {
     "name": "stdout",
     "output_type": "stream",
     "text": [
      "Epoch 1/100\n",
      "     11/Unknown - 16s 1s/step - loss: 1809.8558"
     ]
    }
   ],
   "source": [
    "hist = model.fit(train_ds, validation_data=val_ds, epochs=100, callbacks=callbacks_list)"
   ]
  }
 ],
 "metadata": {
  "accelerator": "GPU",
  "colab": {
   "collapsed_sections": [],
   "name": "resnet_multi.ipynb의 사본의 사본",
   "provenance": []
  },
  "kernelspec": {
   "display_name": "Python 3 (ipykernel)",
   "language": "python",
   "name": "python3"
  },
  "language_info": {
   "codemirror_mode": {
    "name": "ipython",
    "version": 3
   },
   "file_extension": ".py",
   "mimetype": "text/x-python",
   "name": "python",
   "nbconvert_exporter": "python",
   "pygments_lexer": "ipython3",
   "version": "3.9.7"
  }
 },
 "nbformat": 4,
 "nbformat_minor": 1
}
