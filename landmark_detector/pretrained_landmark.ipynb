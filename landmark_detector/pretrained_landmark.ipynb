{
 "cells": [
  {
   "cell_type": "code",
   "execution_count": 1,
   "id": "e05d244e",
   "metadata": {},
   "outputs": [],
   "source": [
    "import tensorflow as tf\n",
    "import data_util\n",
    "import cv2\n",
    "import matplotlib.pyplot as plt\n",
    "import resnet_V2\n",
    "from tensorflow.keras.utils import plot_model\n",
    "from tensorflow import keras"
   ]
  },
  {
   "cell_type": "code",
   "execution_count": 2,
   "id": "cbddcc3f",
   "metadata": {},
   "outputs": [],
   "source": [
    "tf.random.set_seed(42)"
   ]
  },
  {
   "cell_type": "markdown",
   "id": "de85160f",
   "metadata": {},
   "source": [
    "## 데이터 불러오기"
   ]
  },
  {
   "cell_type": "code",
   "execution_count": 3,
   "id": "39821557",
   "metadata": {},
   "outputs": [],
   "source": [
    "ds = data_util.get_cu_dataset(train_type='landmark', batch_size=16)"
   ]
  },
  {
   "cell_type": "code",
   "execution_count": 4,
   "id": "8119fd7b",
   "metadata": {},
   "outputs": [
    {
     "data": {
      "text/plain": [
       "478"
      ]
     },
     "execution_count": 4,
     "metadata": {},
     "output_type": "execute_result"
    }
   ],
   "source": [
    "ds_size = len(list(ds))\n",
    "ds_size"
   ]
  },
  {
   "cell_type": "code",
   "execution_count": 5,
   "id": "79fb7a00",
   "metadata": {},
   "outputs": [],
   "source": [
    "train_size = int(0.7 * ds_size)\n",
    "val_size = int(0.15 * ds_size)\n",
    "test_size = int(0.15 * ds_size)\n",
    "\n",
    "train_ds = ds.take(train_size)\n",
    "test_ds = ds.skip(train_size)\n",
    "val_ds = test_ds.skip(val_size)\n",
    "test_ds = test_ds.take(test_size)"
   ]
  },
  {
   "cell_type": "code",
   "execution_count": 6,
   "id": "f23f0be3",
   "metadata": {},
   "outputs": [
    {
     "name": "stdout",
     "output_type": "stream",
     "text": [
      "(16, 256, 256, 3)\n",
      "(16, 16)\n"
     ]
    }
   ],
   "source": [
    "for image_batch, labels_batch in train_ds:\n",
    "    print(image_batch.shape)\n",
    "    print(labels_batch.shape)\n",
    "    break"
   ]
  },
  {
   "cell_type": "code",
   "execution_count": 9,
   "id": "979e2ad3",
   "metadata": {},
   "outputs": [
    {
     "data": {
      "text/plain": [
       "<tensorflow.python.training.tracking.util.CheckpointLoadStatus at 0x2261fde5130>"
      ]
     },
     "execution_count": 9,
     "metadata": {},
     "output_type": "execute_result"
    }
   ],
   "source": [
    "ae = resnet_V2.ResNetAE()\n",
    "ae.load_weights('./trained_ckpt/model_5.ckpt')"
   ]
  },
  {
   "cell_type": "code",
   "execution_count": 10,
   "id": "ce8c79b5",
   "metadata": {},
   "outputs": [],
   "source": [
    "en = ae.encoder"
   ]
  },
  {
   "cell_type": "code",
   "execution_count": 13,
   "id": "77143565",
   "metadata": {},
   "outputs": [],
   "source": [
    "resnet = keras.models.Sequential()\n",
    "resnet.add(keras.layers.Input(shape=(256, 256, 3)))\n",
    "resnet.add(en)\n",
    "resnet.add(keras.layers.Flatten())\n",
    "resnet.add(keras.layers.Dense(16))\n",
    "resnet.compile(loss=keras.losses.mse,\n",
    "              optimizer='adam')"
   ]
  },
  {
   "cell_type": "code",
   "execution_count": null,
   "id": "3d0e771b",
   "metadata": {},
   "outputs": [],
   "source": [
    "ckpt_path = './ckpt/pre_regression'\n",
    "callbacks_list = [\n",
    "    # accuracy 기준 가장 높은 모델의 weight 저장\n",
    "    tf.keras.callbacks.ModelCheckpoint(\n",
    "        filepath = ckpt_path,\n",
    "        monitor='val_loss',\n",
    "        mode='min',\n",
    "        save_weights_only=True,\n",
    "        save_best_only=True\n",
    "    ),\n",
    "    # EarlyStopping\n",
    "    # tf.keras.callbacks.EarlyStopping(\n",
    "    #     monitor='val_loss',\n",
    "    #     mode='min',\n",
    "    #     verbose=1, \n",
    "    #     patience=20\n",
    "    # )\n",
    "]\n",
    "\n",
    "hist = resnet.fit(train_ds, validation_data=val_ds, epochs=100, callbacks=callbacks_list)   # loss 기록"
   ]
  }
 ],
 "metadata": {
  "kernelspec": {
   "display_name": "Python 3 (ipykernel)",
   "language": "python",
   "name": "python3"
  },
  "language_info": {
   "codemirror_mode": {
    "name": "ipython",
    "version": 3
   },
   "file_extension": ".py",
   "mimetype": "text/x-python",
   "name": "python",
   "nbconvert_exporter": "python",
   "pygments_lexer": "ipython3",
   "version": "3.8.12"
  }
 },
 "nbformat": 4,
 "nbformat_minor": 5
}
